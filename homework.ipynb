{
 "cells": [
  {
   "cell_type": "code",
   "execution_count": 1,
   "metadata": {},
   "outputs": [],
   "source": [
    "import pyspark\n",
    "from pyspark.sql import SparkSession"
   ]
  },
  {
   "cell_type": "code",
   "execution_count": 2,
   "metadata": {},
   "outputs": [
    {
     "name": "stderr",
     "output_type": "stream",
     "text": [
      "WARNING: An illegal reflective access operation has occurred\n",
      "WARNING: Illegal reflective access by org.apache.spark.unsafe.Platform (file:/home/MA.ELKOSTALI/spark/spark-3.0.3-bin-hadoop3.2/jars/spark-unsafe_2.12-3.0.3.jar) to constructor java.nio.DirectByteBuffer(long,int)\n",
      "WARNING: Please consider reporting this to the maintainers of org.apache.spark.unsafe.Platform\n",
      "WARNING: Use --illegal-access=warn to enable warnings of further illegal reflective access operations\n",
      "WARNING: All illegal access operations will be denied in a future release\n",
      "22/03/02 12:44:49 WARN NativeCodeLoader: Unable to load native-hadoop library for your platform... using builtin-java classes where applicable\n",
      "Using Spark's default log4j profile: org/apache/spark/log4j-defaults.properties\n",
      "Setting default log level to \"WARN\".\n",
      "To adjust logging level use sc.setLogLevel(newLevel). For SparkR, use setLogLevel(newLevel).\n"
     ]
    }
   ],
   "source": [
    "spark = SparkSession.builder \\\n",
    "    .master(\"local[*]\") \\\n",
    "    .appName('homework') \\\n",
    "    .getOrCreate()"
   ]
  },
  {
   "cell_type": "code",
   "execution_count": 50,
   "metadata": {},
   "outputs": [
    {
     "name": "stdout",
     "output_type": "stream",
     "text": [
      "--2022-03-01 14:33:33--  https://nyc-tlc.s3.amazonaws.com/trip+data/fhvhv_tripdata_2021-02.csv\n",
      "Resolving nyc-tlc.s3.amazonaws.com (nyc-tlc.s3.amazonaws.com)... 52.216.12.20\n",
      "Connecting to nyc-tlc.s3.amazonaws.com (nyc-tlc.s3.amazonaws.com)|52.216.12.20|:443... connected.\n",
      "HTTP request sent, awaiting response... 200 OK\n",
      "Length: 733822658 (700M) [text/csv]\n",
      "Saving to: ‘fhvhv_tripdata_2021-02.csv.2’\n",
      "\n",
      "fhvhv_tripdata_2021 100%[===================>] 699.83M  35.7MB/s    in 21s     \n",
      "\n",
      "2022-03-01 14:33:54 (33.4 MB/s) - ‘fhvhv_tripdata_2021-02.csv.2’ saved [733822658/733822658]\n",
      "\n"
     ]
    }
   ],
   "source": [
    "#!wget https://nyc-tlc.s3.amazonaws.com/trip+data/fhvhv_tripdata_2021-02.csv"
   ]
  },
  {
   "cell_type": "code",
   "execution_count": 3,
   "metadata": {},
   "outputs": [
    {
     "name": "stdout",
     "output_type": "stream",
     "text": [
      "hvfhs_license_num,dispatching_base_num,pickup_datetime,dropoff_datetime,PULocationID,DOLocationID,SR_Flag\r",
      "\r\n",
      "HV0003,B02764,2021-02-01 00:10:40,2021-02-01 00:21:09,35,39,\r",
      "\r\n",
      "HV0003,B02764,2021-02-01 00:27:23,2021-02-01 00:44:01,39,35,\r",
      "\r\n",
      "HV0005,B02510,2021-02-01 00:28:38,2021-02-01 00:38:27,39,91,\r",
      "\r\n",
      "HV0005,B02510,2021-02-01 00:43:37,2021-02-01 01:23:20,91,228,\r",
      "\r\n",
      "HV0003,B02872,2021-02-01 00:08:42,2021-02-01 00:17:57,126,250,\r",
      "\r\n",
      "HV0003,B02872,2021-02-01 00:26:02,2021-02-01 00:42:51,208,243,\r",
      "\r\n",
      "HV0003,B02872,2021-02-01 00:45:50,2021-02-01 01:02:50,243,220,\r",
      "\r\n",
      "HV0003,B02764,2021-02-01 00:06:42,2021-02-01 00:31:50,49,37,\r",
      "\r\n",
      "HV0003,B02764,2021-02-01 00:34:34,2021-02-01 00:58:13,37,76,\r",
      "\r\n"
     ]
    }
   ],
   "source": [
    "!head fhvhv_tripdata_2021-02.csv"
   ]
  },
  {
   "cell_type": "code",
   "execution_count": 4,
   "metadata": {},
   "outputs": [],
   "source": [
    "import pandas as pd"
   ]
  },
  {
   "cell_type": "code",
   "execution_count": 5,
   "metadata": {},
   "outputs": [],
   "source": [
    "from pyspark.sql import types"
   ]
  },
  {
   "cell_type": "code",
   "execution_count": 6,
   "metadata": {},
   "outputs": [],
   "source": [
    "df = spark.read\\\n",
    ".option(\"header\", \"true\") \\\n",
    ".csv('fhvhv_tripdata_2021-02.csv')"
   ]
  },
  {
   "cell_type": "code",
   "execution_count": 7,
   "metadata": {},
   "outputs": [
    {
     "name": "stdout",
     "output_type": "stream",
     "text": [
      "+-----------------+--------------------+-------------------+-------------------+------------+------------+-------+\n",
      "|hvfhs_license_num|dispatching_base_num|    pickup_datetime|   dropoff_datetime|PULocationID|DOLocationID|SR_Flag|\n",
      "+-----------------+--------------------+-------------------+-------------------+------------+------------+-------+\n",
      "|           HV0003|              B02764|2021-02-01 00:10:40|2021-02-01 00:21:09|          35|          39|   null|\n",
      "|           HV0003|              B02764|2021-02-01 00:27:23|2021-02-01 00:44:01|          39|          35|   null|\n",
      "|           HV0005|              B02510|2021-02-01 00:28:38|2021-02-01 00:38:27|          39|          91|   null|\n",
      "|           HV0005|              B02510|2021-02-01 00:43:37|2021-02-01 01:23:20|          91|         228|   null|\n",
      "|           HV0003|              B02872|2021-02-01 00:08:42|2021-02-01 00:17:57|         126|         250|   null|\n",
      "|           HV0003|              B02872|2021-02-01 00:26:02|2021-02-01 00:42:51|         208|         243|   null|\n",
      "|           HV0003|              B02872|2021-02-01 00:45:50|2021-02-01 01:02:50|         243|         220|   null|\n",
      "|           HV0003|              B02764|2021-02-01 00:06:42|2021-02-01 00:31:50|          49|          37|   null|\n",
      "|           HV0003|              B02764|2021-02-01 00:34:34|2021-02-01 00:58:13|          37|          76|   null|\n",
      "|           HV0005|              B02510|2021-02-01 00:03:43|2021-02-01 00:39:37|          80|         241|   null|\n",
      "|           HV0005|              B02510|2021-02-01 00:55:36|2021-02-01 01:08:39|         174|          51|   null|\n",
      "|           HV0005|              B02510|2021-02-01 00:06:13|2021-02-01 00:33:45|         235|         129|   null|\n",
      "|           HV0005|              B02510|2021-02-01 00:42:24|2021-02-01 01:11:31|         129|         169|   null|\n",
      "|           HV0003|              B02764|2021-02-01 00:07:05|2021-02-01 00:20:53|         226|          82|   null|\n",
      "|           HV0003|              B02764|2021-02-01 00:28:56|2021-02-01 00:33:59|          82|         129|   null|\n",
      "|           HV0003|              B02764|2021-02-01 00:44:53|2021-02-01 01:07:54|           7|          79|   null|\n",
      "|           HV0003|              B02888|2021-02-01 00:17:55|2021-02-01 00:34:41|           4|         170|   null|\n",
      "|           HV0003|              B02888|2021-02-01 00:38:14|2021-02-01 00:59:20|         164|          42|   null|\n",
      "|           HV0004|              B02800|2021-02-01 00:08:04|2021-02-01 00:24:41|         237|           4|   null|\n",
      "|           HV0004|              B02800|2021-02-01 00:30:44|2021-02-01 00:41:26|         107|          45|   null|\n",
      "+-----------------+--------------------+-------------------+-------------------+------------+------------+-------+\n",
      "only showing top 20 rows\n",
      "\n"
     ]
    }
   ],
   "source": [
    "df.show()"
   ]
  },
  {
   "cell_type": "code",
   "execution_count": 8,
   "metadata": {},
   "outputs": [
    {
     "data": {
      "text/plain": [
       "[('hvfhs_license_num', 'string'),\n",
       " ('dispatching_base_num', 'string'),\n",
       " ('pickup_datetime', 'string'),\n",
       " ('dropoff_datetime', 'string'),\n",
       " ('PULocationID', 'string'),\n",
       " ('DOLocationID', 'string'),\n",
       " ('SR_Flag', 'string')]"
      ]
     },
     "execution_count": 8,
     "metadata": {},
     "output_type": "execute_result"
    }
   ],
   "source": [
    "df.dtypes"
   ]
  },
  {
   "cell_type": "code",
   "execution_count": 9,
   "metadata": {},
   "outputs": [],
   "source": [
    "homework_schema = types.StructType([\n",
    "    types.StructField(\"hvfhs_license_num\", types.StringType(), True),\n",
    "    types.StructField(\"dispatching_base_num\", types.StringType(), True),\n",
    "    types.StructField(\"pickup_datetime\", types.TimestampType(), True),\n",
    "    types.StructField(\"dropoff_datetime\", types.TimestampType(), True),\n",
    "    types.StructField(\"PULocationID\", types.IntegerType(), True),\n",
    "    types.StructField(\"DOLocationID\", types.IntegerType(), True),\n",
    "    types.StructField(\"SR_Flag\", types.DoubleType(), True),\n",
    "])"
   ]
  },
  {
   "cell_type": "code",
   "execution_count": 10,
   "metadata": {},
   "outputs": [],
   "source": [
    "df = spark.read\\\n",
    ".option(\"header\", \"true\") \\\n",
    ".schema(homework_schema)\\\n",
    ".csv('fhvhv_tripdata_2021-02.csv')"
   ]
  },
  {
   "cell_type": "code",
   "execution_count": 11,
   "metadata": {},
   "outputs": [
    {
     "data": {
      "text/plain": [
       "[('hvfhs_license_num', 'string'),\n",
       " ('dispatching_base_num', 'string'),\n",
       " ('pickup_datetime', 'timestamp'),\n",
       " ('dropoff_datetime', 'timestamp'),\n",
       " ('PULocationID', 'int'),\n",
       " ('DOLocationID', 'int'),\n",
       " ('SR_Flag', 'double')]"
      ]
     },
     "execution_count": 11,
     "metadata": {},
     "output_type": "execute_result"
    }
   ],
   "source": [
    "df.dtypes"
   ]
  },
  {
   "cell_type": "code",
   "execution_count": 12,
   "metadata": {},
   "outputs": [],
   "source": [
    "df=df.repartition(24)"
   ]
  },
  {
   "cell_type": "code",
   "execution_count": 23,
   "metadata": {},
   "outputs": [
    {
     "name": "stderr",
     "output_type": "stream",
     "text": [
      "                                                                                \r"
     ]
    }
   ],
   "source": [
    "df.write.parquet('fhvhv_tripdata_2021-02')"
   ]
  },
  {
   "cell_type": "code",
   "execution_count": 13,
   "metadata": {},
   "outputs": [
    {
     "data": {
      "text/plain": [
       "['hvfhs_license_num',\n",
       " 'dispatching_base_num',\n",
       " 'pickup_datetime',\n",
       " 'dropoff_datetime',\n",
       " 'PULocationID',\n",
       " 'DOLocationID',\n",
       " 'SR_Flag']"
      ]
     },
     "execution_count": 13,
     "metadata": {},
     "output_type": "execute_result"
    }
   ],
   "source": [
    "df.columns"
   ]
  },
  {
   "cell_type": "code",
   "execution_count": 14,
   "metadata": {},
   "outputs": [
    {
     "name": "stderr",
     "output_type": "stream",
     "text": [
      "[Stage 2:=================================================>         (5 + 1) / 6]\r"
     ]
    },
    {
     "name": "stdout",
     "output_type": "stream",
     "text": [
      "+-----------------+--------------------+-------------------+-------------------+------------+------------+-------+\n",
      "|hvfhs_license_num|dispatching_base_num|    pickup_datetime|   dropoff_datetime|PULocationID|DOLocationID|SR_Flag|\n",
      "+-----------------+--------------------+-------------------+-------------------+------------+------------+-------+\n",
      "|           HV0003|              B02765|2021-02-05 15:13:57|2021-02-05 15:30:25|          71|          89|   null|\n",
      "|           HV0003|              B02866|2021-02-04 11:40:47|2021-02-04 11:46:35|          20|         174|   null|\n",
      "|           HV0003|              B02872|2021-02-02 13:21:54|2021-02-02 13:36:47|          78|         247|   null|\n",
      "|           HV0003|              B02872|2021-02-03 22:05:16|2021-02-03 22:14:52|          75|         262|   null|\n",
      "|           HV0003|              B02888|2021-02-02 16:41:27|2021-02-02 17:06:27|         138|          88|   null|\n",
      "|           HV0003|              B02866|2021-02-06 03:00:04|2021-02-06 03:10:29|         198|          37|   null|\n",
      "|           HV0003|              B02682|2021-02-03 11:21:46|2021-02-03 11:34:23|         134|          53|   null|\n",
      "|           HV0005|              B02510|2021-02-01 03:18:05|2021-02-01 03:37:25|         155|         188|   null|\n",
      "|           HV0005|              B02510|2021-02-05 22:56:42|2021-02-05 23:04:06|         117|         117|   null|\n",
      "|           HV0003|              B02682|2021-02-04 07:26:16|2021-02-04 07:32:52|         195|          40|   null|\n",
      "|           HV0003|              B02864|2021-02-04 22:10:28|2021-02-04 22:36:21|         148|         108|   null|\n",
      "|           HV0003|              B02878|2021-02-06 05:25:49|2021-02-06 05:29:08|         205|          38|   null|\n",
      "|           HV0005|              B02510|2021-02-04 10:37:02|2021-02-04 11:13:15|           7|         159|   null|\n",
      "|           HV0003|              B02764|2021-02-03 09:56:13|2021-02-03 10:19:13|          37|          34|   null|\n",
      "|           HV0005|              B02510|2021-02-03 10:16:14|2021-02-03 10:47:30|         189|         123|   null|\n",
      "|           HV0005|              B02510|2021-02-02 12:53:14|2021-02-02 13:17:17|         224|         152|   null|\n",
      "|           HV0003|              B02764|2021-02-05 08:14:22|2021-02-05 08:50:30|         135|         166|   null|\n",
      "|           HV0005|              B02510|2021-02-06 12:17:22|2021-02-06 12:48:38|         142|          80|   null|\n",
      "|           HV0003|              B02869|2021-02-05 19:41:09|2021-02-05 19:58:18|         137|         179|   null|\n",
      "|           HV0003|              B02875|2021-02-03 10:29:05|2021-02-03 10:55:13|         140|         224|   null|\n",
      "+-----------------+--------------------+-------------------+-------------------+------------+------------+-------+\n",
      "only showing top 20 rows\n",
      "\n"
     ]
    },
    {
     "name": "stderr",
     "output_type": "stream",
     "text": [
      "\r",
      "                                                                                \r"
     ]
    }
   ],
   "source": [
    "df.show()"
   ]
  },
  {
   "cell_type": "code",
   "execution_count": 22,
   "metadata": {},
   "outputs": [],
   "source": [
    "df.registerTempTable('Amine_data_homework')"
   ]
  },
  {
   "cell_type": "code",
   "execution_count": 16,
   "metadata": {},
   "outputs": [],
   "source": [
    "from pyspark.sql import functions as F"
   ]
  },
  {
   "cell_type": "code",
   "execution_count": 17,
   "metadata": {},
   "outputs": [],
   "source": [
    "timeFmt = \"yyyy-MM-dd'T'HH:mm:ss.SSS\""
   ]
  },
  {
   "cell_type": "code",
   "execution_count": 18,
   "metadata": {},
   "outputs": [],
   "source": [
    "timeDiff = (F.unix_timestamp('dropoff_datetime', format=timeFmt)\n",
    "            - F.unix_timestamp('pickup_datetime', format=timeFmt))"
   ]
  },
  {
   "cell_type": "code",
   "execution_count": 19,
   "metadata": {},
   "outputs": [],
   "source": [
    "df = df.withColumn(\"Duration\", timeDiff)"
   ]
  },
  {
   "cell_type": "code",
   "execution_count": 21,
   "metadata": {},
   "outputs": [
    {
     "data": {
      "text/plain": [
       "[('hvfhs_license_num', 'string'),\n",
       " ('dispatching_base_num', 'string'),\n",
       " ('pickup_datetime', 'timestamp'),\n",
       " ('dropoff_datetime', 'timestamp'),\n",
       " ('PULocationID', 'int'),\n",
       " ('DOLocationID', 'int'),\n",
       " ('SR_Flag', 'double'),\n",
       " ('Duration', 'bigint')]"
      ]
     },
     "execution_count": 21,
     "metadata": {},
     "output_type": "execute_result"
    }
   ],
   "source": [
    "df.dtypes"
   ]
  },
  {
   "cell_type": "code",
   "execution_count": 47,
   "metadata": {},
   "outputs": [
    {
     "name": "stderr",
     "output_type": "stream",
     "text": [
      "[Stage 27:================================================>         (5 + 1) / 6]\r"
     ]
    },
    {
     "name": "stdout",
     "output_type": "stream",
     "text": [
      "+-----------------+--------------------+-------------------+-------------------+------------+------------+-------+--------+\n",
      "|hvfhs_license_num|dispatching_base_num|    pickup_datetime|   dropoff_datetime|PULocationID|DOLocationID|SR_Flag|Duration|\n",
      "+-----------------+--------------------+-------------------+-------------------+------------+------------+-------+--------+\n",
      "|           HV0003|              B02765|2021-02-05 15:13:57|2021-02-05 15:30:25|          71|          89|   null|     988|\n",
      "|           HV0003|              B02866|2021-02-04 11:40:47|2021-02-04 11:46:35|          20|         174|   null|     348|\n",
      "|           HV0003|              B02872|2021-02-02 13:21:54|2021-02-02 13:36:47|          78|         247|   null|     893|\n",
      "|           HV0003|              B02872|2021-02-03 22:05:16|2021-02-03 22:14:52|          75|         262|   null|     576|\n",
      "|           HV0003|              B02888|2021-02-02 16:41:27|2021-02-02 17:06:27|         138|          88|   null|    1500|\n",
      "|           HV0003|              B02866|2021-02-06 03:00:04|2021-02-06 03:10:29|         198|          37|   null|     625|\n",
      "|           HV0003|              B02682|2021-02-03 11:21:46|2021-02-03 11:34:23|         134|          53|   null|     757|\n",
      "|           HV0005|              B02510|2021-02-01 03:18:05|2021-02-01 03:37:25|         155|         188|   null|    1160|\n",
      "|           HV0005|              B02510|2021-02-05 22:56:42|2021-02-05 23:04:06|         117|         117|   null|     444|\n",
      "|           HV0003|              B02682|2021-02-04 07:26:16|2021-02-04 07:32:52|         195|          40|   null|     396|\n",
      "|           HV0003|              B02864|2021-02-04 22:10:28|2021-02-04 22:36:21|         148|         108|   null|    1553|\n",
      "|           HV0003|              B02878|2021-02-06 05:25:49|2021-02-06 05:29:08|         205|          38|   null|     199|\n",
      "|           HV0005|              B02510|2021-02-04 10:37:02|2021-02-04 11:13:15|           7|         159|   null|    2173|\n",
      "|           HV0003|              B02764|2021-02-03 09:56:13|2021-02-03 10:19:13|          37|          34|   null|    1380|\n",
      "|           HV0005|              B02510|2021-02-03 10:16:14|2021-02-03 10:47:30|         189|         123|   null|    1876|\n",
      "|           HV0005|              B02510|2021-02-02 12:53:14|2021-02-02 13:17:17|         224|         152|   null|    1443|\n",
      "|           HV0003|              B02764|2021-02-05 08:14:22|2021-02-05 08:50:30|         135|         166|   null|    2168|\n",
      "|           HV0005|              B02510|2021-02-06 12:17:22|2021-02-06 12:48:38|         142|          80|   null|    1876|\n",
      "|           HV0003|              B02869|2021-02-05 19:41:09|2021-02-05 19:58:18|         137|         179|   null|    1029|\n",
      "|           HV0003|              B02875|2021-02-03 10:29:05|2021-02-03 10:55:13|         140|         224|   null|    1568|\n",
      "+-----------------+--------------------+-------------------+-------------------+------------+------------+-------+--------+\n",
      "only showing top 20 rows\n",
      "\n"
     ]
    },
    {
     "name": "stderr",
     "output_type": "stream",
     "text": [
      "\r",
      "                                                                                \r"
     ]
    }
   ],
   "source": [
    "df.show()"
   ]
  },
  {
   "cell_type": "code",
   "execution_count": 84,
   "metadata": {},
   "outputs": [
    {
     "name": "stdout",
     "output_type": "stream",
     "text": [
      "root\n",
      " |-- hvfhs_license_num: string (nullable = true)\n",
      " |-- dispatching_base_num: string (nullable = true)\n",
      " |-- pickup_datetime: timestamp (nullable = true)\n",
      " |-- dropoff_datetime: timestamp (nullable = true)\n",
      " |-- PULocationID: integer (nullable = true)\n",
      " |-- DOLocationID: integer (nullable = true)\n",
      " |-- SR_Flag: double (nullable = true)\n",
      " |-- Duration: long (nullable = true)\n",
      "\n"
     ]
    }
   ],
   "source": [
    "df.printSchema()"
   ]
  },
  {
   "cell_type": "code",
   "execution_count": 48,
   "metadata": {},
   "outputs": [
    {
     "name": "stderr",
     "output_type": "stream",
     "text": [
      "[Stage 30:=====================================>                  (16 + 4) / 24]\r"
     ]
    },
    {
     "name": "stdout",
     "output_type": "stream",
     "text": [
      "+-------+------------------+\n",
      "|summary|          Duration|\n",
      "+-------+------------------+\n",
      "|  count|          11613942|\n",
      "|   mean|1010.6961042168111|\n",
      "| stddev| 672.4338059283223|\n",
      "|    min|                 0|\n",
      "|    max|             75540|\n",
      "+-------+------------------+\n",
      "\n"
     ]
    },
    {
     "name": "stderr",
     "output_type": "stream",
     "text": [
      "\r",
      "[Stage 30:==============================================>         (20 + 4) / 24]\r",
      "\r",
      "                                                                                \r"
     ]
    }
   ],
   "source": [
    "df.select(\"pickup_datetime\", \"Duration\").describe().show()"
   ]
  },
  {
   "cell_type": "code",
   "execution_count": 49,
   "metadata": {},
   "outputs": [
    {
     "name": "stderr",
     "output_type": "stream",
     "text": [
      "[Stage 32:================================================>         (5 + 1) / 6]\r"
     ]
    },
    {
     "name": "stdout",
     "output_type": "stream",
     "text": [
      "+-------------------+--------+\n",
      "|    pickup_datetime|Duration|\n",
      "+-------------------+--------+\n",
      "|2021-02-11 13:40:44|   75540|\n",
      "+-------------------+--------+\n",
      "\n"
     ]
    },
    {
     "name": "stderr",
     "output_type": "stream",
     "text": [
      "\r",
      "                                                                                \r"
     ]
    }
   ],
   "source": [
    "E= spark.sql(\"\"\"\n",
    "SELECT\n",
    "    pickup_datetime,\n",
    "    Duration\n",
    "FROM\n",
    "    Amine_data_homework\n",
    "WHERE\n",
    "    Duration = '75540'\n",
    "\n",
    "\"\"\").show()"
   ]
  },
  {
   "cell_type": "code",
   "execution_count": 46,
   "metadata": {},
   "outputs": [
    {
     "name": "stderr",
     "output_type": "stream",
     "text": [
      "[Stage 25:=====================================>                  (16 + 4) / 24]\r"
     ]
    },
    {
     "name": "stdout",
     "output_type": "stream",
     "text": [
      "+------+\n",
      "|maxdur|\n",
      "+------+\n",
      "| 75540|\n",
      "+------+\n",
      "\n"
     ]
    },
    {
     "name": "stderr",
     "output_type": "stream",
     "text": [
      "\r",
      "                                                                                \r"
     ]
    }
   ],
   "source": [
    "#spark.sql(\"\"\"\n",
    "#SELECT\n",
    "\n",
    " #   max(Duration) AS maxdur\n",
    "#FROM\n",
    " #   Amine_data_homework\n",
    "\n",
    "#\"\"\").show()"
   ]
  },
  {
   "cell_type": "code",
   "execution_count": 72,
   "metadata": {},
   "outputs": [
    {
     "name": "stderr",
     "output_type": "stream",
     "text": [
      "[Stage 63:================================================>         (5 + 1) / 6]\r"
     ]
    },
    {
     "name": "stdout",
     "output_type": "stream",
     "text": [
      "+-----------+------------+------------+------------+--------+\n",
      "|pickup_date|dropoff_date|PULocationID|DOLocationID|Duration|\n",
      "+-----------+------------+------------+------------+--------+\n",
      "| 2021-02-03|  2021-02-03|         181|         144|    1082|\n",
      "| 2021-02-04|  2021-02-04|          35|         197|    2197|\n",
      "| 2021-02-05|  2021-02-05|         112|         255|     275|\n",
      "| 2021-02-01|  2021-02-01|         228|          74|    2111|\n",
      "| 2021-02-05|  2021-02-05|         141|         141|     425|\n",
      "| 2021-02-05|  2021-02-05|           3|          51|     853|\n",
      "| 2021-02-05|  2021-02-05|         241|         174|     722|\n",
      "| 2021-02-05|  2021-02-05|         209|          68|    1404|\n",
      "| 2021-02-04|  2021-02-04|         231|         249|    1189|\n",
      "| 2021-02-04|  2021-02-04|         249|         140|    2091|\n",
      "| 2021-02-03|  2021-02-03|         162|         244|    1264|\n",
      "| 2021-02-03|  2021-02-03|           7|         256|    1022|\n",
      "| 2021-02-03|  2021-02-03|         141|         146|     565|\n",
      "| 2021-02-05|  2021-02-05|          72|          49|    1408|\n",
      "| 2021-02-04|  2021-02-04|           4|         234|    1161|\n",
      "| 2021-02-06|  2021-02-06|          75|         162|     528|\n",
      "| 2021-02-06|  2021-02-06|          25|          51|    2413|\n",
      "| 2021-02-06|  2021-02-06|          13|           4|     690|\n",
      "| 2021-02-04|  2021-02-04|          75|          40|    2467|\n",
      "| 2021-02-06|  2021-02-06|         161|          80|    1280|\n",
      "+-----------+------------+------------+------------+--------+\n",
      "only showing top 20 rows\n",
      "\n"
     ]
    },
    {
     "name": "stderr",
     "output_type": "stream",
     "text": [
      "\r",
      "                                                                                \r"
     ]
    }
   ],
   "source": [
    "new_df = df \\\n",
    "    .withColumn('pickup_date', F.to_date(df.pickup_datetime)) \\\n",
    "    .withColumn('dropoff_date', F.to_date(df.dropoff_datetime)) \\\n",
    "    .select('pickup_date', 'dropoff_date', 'PULocationID', 'DOLocationID','Duration') \\\n",
    "    .show()"
   ]
  },
  {
   "cell_type": "code",
   "execution_count": 74,
   "metadata": {},
   "outputs": [
    {
     "ename": "AttributeError",
     "evalue": "'NoneType' object has no attribute 'registerTempTable'",
     "output_type": "error",
     "traceback": [
      "\u001b[0;31m---------------------------------------------------------------------------\u001b[0m",
      "\u001b[0;31mAttributeError\u001b[0m                            Traceback (most recent call last)",
      "\u001b[0;32m/tmp/ipykernel_2162/2152121665.py\u001b[0m in \u001b[0;36m<module>\u001b[0;34m\u001b[0m\n\u001b[0;32m----> 1\u001b[0;31m \u001b[0mnew_df\u001b[0m\u001b[0;34m.\u001b[0m\u001b[0mregisterTempTable\u001b[0m\u001b[0;34m(\u001b[0m\u001b[0;34m'Amine_data_homework1'\u001b[0m\u001b[0;34m)\u001b[0m\u001b[0;34m\u001b[0m\u001b[0;34m\u001b[0m\u001b[0m\n\u001b[0m",
      "\u001b[0;31mAttributeError\u001b[0m: 'NoneType' object has no attribute 'registerTempTable'"
     ]
    }
   ],
   "source": [
    "new_df.registerTempTable('Amine_data_homework1')"
   ]
  },
  {
   "cell_type": "code",
   "execution_count": 75,
   "metadata": {},
   "outputs": [
    {
     "name": "stderr",
     "output_type": "stream",
     "text": [
      "[Stage 65:================================================>         (5 + 1) / 6]\r"
     ]
    },
    {
     "name": "stdout",
     "output_type": "stream",
     "text": [
      "+-----------------+--------------------+-------------------+-------------------+------------+------------+-------+--------+\n",
      "|hvfhs_license_num|dispatching_base_num|    pickup_datetime|   dropoff_datetime|PULocationID|DOLocationID|SR_Flag|Duration|\n",
      "+-----------------+--------------------+-------------------+-------------------+------------+------------+-------+--------+\n",
      "|           HV0003|              B02765|2021-02-05 15:13:57|2021-02-05 15:30:25|          71|          89|   null|     988|\n",
      "|           HV0003|              B02866|2021-02-04 11:40:47|2021-02-04 11:46:35|          20|         174|   null|     348|\n",
      "|           HV0003|              B02872|2021-02-02 13:21:54|2021-02-02 13:36:47|          78|         247|   null|     893|\n",
      "|           HV0003|              B02872|2021-02-03 22:05:16|2021-02-03 22:14:52|          75|         262|   null|     576|\n",
      "|           HV0003|              B02888|2021-02-02 16:41:27|2021-02-02 17:06:27|         138|          88|   null|    1500|\n",
      "|           HV0003|              B02866|2021-02-06 03:00:04|2021-02-06 03:10:29|         198|          37|   null|     625|\n",
      "|           HV0003|              B02682|2021-02-03 11:21:46|2021-02-03 11:34:23|         134|          53|   null|     757|\n",
      "|           HV0005|              B02510|2021-02-01 03:18:05|2021-02-01 03:37:25|         155|         188|   null|    1160|\n",
      "|           HV0005|              B02510|2021-02-05 22:56:42|2021-02-05 23:04:06|         117|         117|   null|     444|\n",
      "|           HV0003|              B02682|2021-02-04 07:26:16|2021-02-04 07:32:52|         195|          40|   null|     396|\n",
      "|           HV0003|              B02864|2021-02-04 22:10:28|2021-02-04 22:36:21|         148|         108|   null|    1553|\n",
      "|           HV0003|              B02878|2021-02-06 05:25:49|2021-02-06 05:29:08|         205|          38|   null|     199|\n",
      "|           HV0005|              B02510|2021-02-04 10:37:02|2021-02-04 11:13:15|           7|         159|   null|    2173|\n",
      "|           HV0003|              B02764|2021-02-03 09:56:13|2021-02-03 10:19:13|          37|          34|   null|    1380|\n",
      "|           HV0005|              B02510|2021-02-03 10:16:14|2021-02-03 10:47:30|         189|         123|   null|    1876|\n",
      "|           HV0005|              B02510|2021-02-02 12:53:14|2021-02-02 13:17:17|         224|         152|   null|    1443|\n",
      "|           HV0003|              B02764|2021-02-05 08:14:22|2021-02-05 08:50:30|         135|         166|   null|    2168|\n",
      "|           HV0005|              B02510|2021-02-06 12:17:22|2021-02-06 12:48:38|         142|          80|   null|    1876|\n",
      "|           HV0003|              B02869|2021-02-05 19:41:09|2021-02-05 19:58:18|         137|         179|   null|    1029|\n",
      "|           HV0003|              B02875|2021-02-03 10:29:05|2021-02-03 10:55:13|         140|         224|   null|    1568|\n",
      "+-----------------+--------------------+-------------------+-------------------+------------+------------+-------+--------+\n",
      "only showing top 20 rows\n",
      "\n"
     ]
    },
    {
     "name": "stderr",
     "output_type": "stream",
     "text": [
      "\r",
      "                                                                                \r"
     ]
    }
   ],
   "source": [
    "df.show()"
   ]
  },
  {
   "cell_type": "code",
   "execution_count": 87,
   "metadata": {},
   "outputs": [
    {
     "name": "stderr",
     "output_type": "stream",
     "text": [
      "[Stage 85:================================================>         (5 + 1) / 6]\r"
     ]
    },
    {
     "name": "stdout",
     "output_type": "stream",
     "text": [
      "+-------------------+--------+\n",
      "|    pickup_datetime|count(1)|\n",
      "+-------------------+--------+\n",
      "|2021-02-15 14:27:20|       2|\n",
      "|2021-02-15 06:56:28|       4|\n",
      "|2021-02-15 15:43:10|       9|\n",
      "|2021-02-15 11:48:51|       7|\n",
      "|2021-02-15 10:24:47|       6|\n",
      "|2021-02-15 15:41:28|      10|\n",
      "|2021-02-15 09:15:13|       4|\n",
      "|2021-02-15 00:11:36|       5|\n",
      "|2021-02-15 14:19:53|       5|\n",
      "|2021-02-15 12:13:39|       4|\n",
      "|2021-02-15 12:45:31|       8|\n",
      "|2021-02-15 07:18:21|       1|\n",
      "|2021-02-15 00:53:12|       5|\n",
      "|2021-02-15 22:04:50|       8|\n",
      "|2021-02-15 15:35:33|       4|\n",
      "|2021-02-15 08:44:08|       7|\n",
      "|2021-02-15 06:40:59|       6|\n",
      "|2021-02-15 03:19:21|       1|\n",
      "|2021-02-15 11:50:50|       7|\n",
      "|2021-02-15 19:11:32|       6|\n",
      "+-------------------+--------+\n",
      "only showing top 20 rows\n",
      "\n"
     ]
    },
    {
     "name": "stderr",
     "output_type": "stream",
     "text": [
      "\r",
      "[Stage 86:============================================>           (19 + 4) / 24]\r",
      "\r",
      "                                                                                \r"
     ]
    }
   ],
   "source": [
    "spark.sql(\"\"\"\n",
    "SELECT\n",
    "    pickup_datetime,\n",
    "    count(*)\n",
    "FROM\n",
    "    Amine_data_homework1\n",
    "WHERE\n",
    "    pickup_datetime BETWEEN  '2021-02-15 00:00:00' AND '2021-02-15 23:59:59'\n",
    "GROUP BY \n",
    "    pickup_datetime\n",
    "\"\"\").show()"
   ]
  },
  {
   "cell_type": "code",
   "execution_count": 91,
   "metadata": {},
   "outputs": [
    {
     "name": "stderr",
     "output_type": "stream",
     "text": [
      "[Stage 88:================================================>         (5 + 1) / 6]\r"
     ]
    },
    {
     "name": "stdout",
     "output_type": "stream",
     "text": [
      "+--------+\n",
      "|count(1)|\n",
      "+--------+\n",
      "|  367170|\n",
      "+--------+\n",
      "\n"
     ]
    },
    {
     "name": "stderr",
     "output_type": "stream",
     "text": [
      "\r",
      "                                                                                \r"
     ]
    }
   ],
   "source": [
    "spark.sql(\"\"\"\n",
    "SELECT\n",
    "    count(*)\n",
    "FROM\n",
    "    Amine_data_homework1\n",
    "WHERE\n",
    "    pickup_datetime BETWEEN  '2021-02-15 00:00:00' AND '2021-02-15 23:59:59'\n",
    "\n",
    "\"\"\").show()"
   ]
  },
  {
   "cell_type": "code",
   "execution_count": null,
   "metadata": {},
   "outputs": [],
   "source": []
  }
 ],
 "metadata": {
  "kernelspec": {
   "display_name": "Python 3 (ipykernel)",
   "language": "python",
   "name": "python3"
  },
  "language_info": {
   "codemirror_mode": {
    "name": "ipython",
    "version": 3
   },
   "file_extension": ".py",
   "mimetype": "text/x-python",
   "name": "python",
   "nbconvert_exporter": "python",
   "pygments_lexer": "ipython3",
   "version": "3.9.7"
  }
 },
 "nbformat": 4,
 "nbformat_minor": 2
}
